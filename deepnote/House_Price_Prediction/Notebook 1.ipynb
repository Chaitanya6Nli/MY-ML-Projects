{
  "cells": [
    {
      "cell_type": "markdown",
      "source": "# 🏡 House Price Prediction using Linear Regression",
      "metadata": {
        "formattedRanges": [
          {
            "type": "marks",
            "marks": {
              "bold": true,
              "color": "#0C5CED",
              "underline": true
            },
            "toCodePoint": 48,
            "fromCodePoint": 2
          }
        ],
        "deepnote_app_block_visible": true,
        "cell_id": "a537665507ac4ceaa586aa1a4ac5877f",
        "deepnote_cell_type": "text-cell-h1"
      },
      "block_group": "7dfd3fef69bd4b12a8b968ed7ba5cc4b"
    },
    {
      "cell_type": "markdown",
      "source": "#### 📌 Project Structure:\n- Introduction \n- Problem Statement\n- Importing Libraries\n- Data Collection and Preprocessing\n- Exploratory Data Analysis (EDA)\n- Model Training and Evaluation\n- Conclusion",
      "metadata": {
        "deepnote_app_block_visible": true,
        "cell_id": "561b0d06aebd477ca5524e224f3d12e8",
        "deepnote_cell_type": "markdown"
      },
      "block_group": "00c2ae0cdec74fa790bb32e30589352b"
    },
    {
      "cell_type": "markdown",
      "source": "<hr>",
      "metadata": {
        "deepnote_app_block_visible": true,
        "cell_id": "fc61a012b14e4483a61b923a6bba43a7",
        "deepnote_cell_type": "separator"
      },
      "block_group": "113b89466b924bd4bce79e238f9151bd"
    },
    {
      "cell_type": "markdown",
      "source": "## 1. Introduction\nWelcome! In this project, we will predict house prices based on square footage using a linear regression model. We will walk through the data exploration, model training, and evaluation steps to gain insights into how linear regression works.\n\n## 2. Problem Statement 📋\nGiven a dataset of houses with their square footage and prices, we aim to build a model that can predict the price of a house given its size.\n",
      "metadata": {
        "deepnote_app_block_visible": true,
        "cell_id": "063d539fd681475caec1e0d522044849",
        "deepnote_cell_type": "markdown"
      },
      "block_group": "3e17577ed7314334ad8e482d2c27ce07"
    },
    {
      "cell_type": "markdown",
      "source": "## 3. Importing Libraries",
      "metadata": {
        "deepnote_app_block_visible": true,
        "cell_id": "664c2d9f94654cf18e9c5b8febda998d",
        "deepnote_cell_type": "markdown"
      },
      "block_group": "05e06e4dbc074ee8bb5fb41e3288d125"
    },
    {
      "cell_type": "code",
      "source": "# 📚 Importing Required Libraries\nimport pandas as pd\nimport numpy as np\nimport seaborn as sns\nimport matplotlib.pyplot as plt\nfrom sklearn.model_selection import train_test_split\nfrom sklearn.linear_model import LinearRegression\nfrom sklearn.metrics import mean_squared_error\n\n# Setting a modern style for plots\nsns.set(style=\"whitegrid\")\n",
      "metadata": {
        "source_hash": "9cc47923",
        "execution_start": 1729874773756,
        "execution_millis": 3078,
        "execution_context_id": "5fc09568-8e3b-44df-b218-3a8761cd3422",
        "deepnote_app_block_visible": true,
        "cell_id": "19fa29ea144e4b048b74fd6d38604694",
        "deepnote_cell_type": "code"
      },
      "outputs": [],
      "outputs_reference": null,
      "execution_count": 1,
      "block_group": "337aa64fc5dc456d935314e67933061b",
      "content_dependencies": null
    },
    {
      "cell_type": "markdown",
      "source": "## 4. Data Collection and Preprocessing\nwe use a dataset such as house_prices.csv, which contains columns for square footage (Square_Feet) and price (Price).",
      "metadata": {
        "deepnote_app_block_visible": true,
        "cell_id": "0f536053ff8d4b10b36860dc7505eada",
        "deepnote_cell_type": "markdown"
      },
      "block_group": "c7c952091e294a5f8d9ff49a9b2f77b6"
    },
    {
      "cell_type": "markdown",
      "source": "Generate Synthetic Data:",
      "metadata": {
        "formattedRanges": [],
        "deepnote_app_block_visible": true,
        "cell_id": "b7c0f02b87a346938aa65cf9c680982d",
        "deepnote_cell_type": "text-cell-p"
      },
      "block_group": "12f923fe4d624b638cc63b0dcb020d20"
    },
    {
      "cell_type": "code",
      "source": "import pandas as pd\nimport numpy as np\n\n# Set a random seed for reproducibility\nnp.random.seed(42)\n\n# Generate random square footage data\nsquare_feet = np.random.randint(500, 5000, size=100)\n\n# Generate prices with a basic linear relationship plus some noise\nprices = square_feet * 300 + np.random.normal(0, 50000, size=100)  # Price = 300 * square_feet + some_noise\n\n# Create a DataFrame\ndata = pd.DataFrame({\n    'Square_Feet': square_feet,\n    'Price': prices\n})\n",
      "metadata": {
        "source_hash": "1a8ffded",
        "execution_start": 1729874776890,
        "execution_millis": 1,
        "execution_context_id": "5fc09568-8e3b-44df-b218-3a8761cd3422",
        "deepnote_app_block_visible": true,
        "cell_id": "49645868616d428c979f4ed044d92741",
        "deepnote_cell_type": "code"
      },
      "outputs": [],
      "outputs_reference": null,
      "execution_count": 2,
      "block_group": "4da0952b8e4c4d059cdbbf4e56d19dff",
      "content_dependencies": null
    },
    {
      "cell_type": "markdown",
      "source": "Save the Data as a CSV File:",
      "metadata": {
        "deepnote_app_block_visible": true,
        "cell_id": "889cab6a214643418f0d235ec52e1a90",
        "deepnote_cell_type": "markdown"
      },
      "block_group": "361acd52e81640a09f5f5681a7c2d00d"
    },
    {
      "cell_type": "code",
      "source": "# Save DataFrame to a CSV file\ndata.to_csv('house_prices.csv', index=False)\nprint(\"Data saved to house_prices.csv\")",
      "metadata": {
        "source_hash": "c1e36123",
        "execution_start": 1729874776954,
        "execution_millis": 181,
        "execution_context_id": "5fc09568-8e3b-44df-b218-3a8761cd3422",
        "deepnote_app_block_visible": true,
        "cell_id": "076df24b26144ee6a1580e7889e229b9",
        "deepnote_cell_type": "code"
      },
      "outputs": [
        {
          "name": "stdout",
          "text": "Data saved to house_prices.csv\n",
          "output_type": "stream"
        }
      ],
      "outputs_reference": null,
      "execution_count": 3,
      "block_group": "293bab48d58d4fcbaa8605d1c306517c",
      "content_dependencies": null
    },
    {
      "cell_type": "markdown",
      "source": "Verify the CSV File:\n",
      "metadata": {
        "deepnote_app_block_visible": true,
        "cell_id": "f4d05133ea934fbaa9621af4c6637611",
        "deepnote_cell_type": "markdown"
      },
      "block_group": "b2b3f9530dcd4c72981b7f7e744bc1e4"
    },
    {
      "cell_type": "code",
      "source": "# Load the CSV file to check the data\ndf = pd.read_csv('house_prices.csv')\ndf.head()  # Display the first few rows to confirm the data\n",
      "metadata": {
        "source_hash": "daa71ddb",
        "execution_start": 1729874777190,
        "execution_millis": 112,
        "execution_context_id": "5fc09568-8e3b-44df-b218-3a8761cd3422",
        "deepnote_app_block_visible": true,
        "cell_id": "44d07fe8901e488cb952881b3c2c9cbb",
        "deepnote_cell_type": "code"
      },
      "outputs": [
        {
          "output_type": "execute_result",
          "execution_count": 4,
          "data": {
            "application/vnd.deepnote.dataframe.v3+json": {
              "column_count": 2,
              "row_count": 5,
              "columns": [
                {
                  "name": "Square_Feet",
                  "dtype": "int64",
                  "stats": {
                    "unique_count": 5,
                    "nan_count": 0,
                    "min": "966",
                    "max": "4926",
                    "histogram": [
                      {
                        "bin_start": 966,
                        "bin_end": 1362,
                        "count": 2
                      },
                      {
                        "bin_start": 1362,
                        "bin_end": 1758,
                        "count": 0
                      },
                      {
                        "bin_start": 1758,
                        "bin_end": 2154,
                        "count": 0
                      },
                      {
                        "bin_start": 2154,
                        "bin_end": 2550,
                        "count": 0
                      },
                      {
                        "bin_start": 2550,
                        "bin_end": 2946,
                        "count": 0
                      },
                      {
                        "bin_start": 2946,
                        "bin_end": 3342,
                        "count": 0
                      },
                      {
                        "bin_start": 3342,
                        "bin_end": 3738,
                        "count": 1
                      },
                      {
                        "bin_start": 3738,
                        "bin_end": 4134,
                        "count": 0
                      },
                      {
                        "bin_start": 4134,
                        "bin_end": 4530,
                        "count": 1
                      },
                      {
                        "bin_start": 4530,
                        "bin_end": 4926,
                        "count": 1
                      }
                    ]
                  }
                },
                {
                  "name": "Price",
                  "dtype": "float64",
                  "stats": {
                    "unique_count": 5,
                    "nan_count": 0,
                    "min": "275759.6854236624",
                    "max": "1474809.1368169163",
                    "histogram": [
                      {
                        "bin_start": 275759.6854236624,
                        "bin_end": 395664.6305629878,
                        "count": 2
                      },
                      {
                        "bin_start": 395664.6305629878,
                        "bin_end": 515569.5757023132,
                        "count": 0
                      },
                      {
                        "bin_start": 515569.5757023132,
                        "bin_end": 635474.5208416386,
                        "count": 0
                      },
                      {
                        "bin_start": 635474.5208416386,
                        "bin_end": 755379.465980964,
                        "count": 0
                      },
                      {
                        "bin_start": 755379.465980964,
                        "bin_end": 875284.4111202894,
                        "count": 0
                      },
                      {
                        "bin_start": 875284.4111202894,
                        "bin_end": 995189.3562596147,
                        "count": 0
                      },
                      {
                        "bin_start": 995189.3562596147,
                        "bin_end": 1115094.3013989402,
                        "count": 1
                      },
                      {
                        "bin_start": 1115094.3013989402,
                        "bin_end": 1234999.2465382656,
                        "count": 0
                      },
                      {
                        "bin_start": 1234999.2465382656,
                        "bin_end": 1354904.1916775908,
                        "count": 1
                      },
                      {
                        "bin_start": 1354904.1916775908,
                        "bin_end": 1474809.1368169163,
                        "count": 1
                      }
                    ]
                  }
                },
                {
                  "name": "_deepnote_index_column",
                  "dtype": "int64"
                }
              ],
              "rows": [
                {
                  "Square_Feet": 1360,
                  "Price": 377256.2120291345,
                  "_deepnote_index_column": 0
                },
                {
                  "Square_Feet": 4272,
                  "Price": 1298244.6220244465,
                  "_deepnote_index_column": 1
                },
                {
                  "Square_Feet": 3592,
                  "Price": 1008564.1487863874,
                  "_deepnote_index_column": 2
                },
                {
                  "Square_Feet": 966,
                  "Price": 275759.6854236624,
                  "_deepnote_index_column": 3
                },
                {
                  "Square_Feet": 4926,
                  "Price": 1474809.1368169163,
                  "_deepnote_index_column": 4
                }
              ]
            },
            "text/plain": "   Square_Feet         Price\n0         1360  3.772562e+05\n1         4272  1.298245e+06\n2         3592  1.008564e+06\n3          966  2.757597e+05\n4         4926  1.474809e+06",
            "text/html": "<div>\n<style scoped>\n    .dataframe tbody tr th:only-of-type {\n        vertical-align: middle;\n    }\n\n    .dataframe tbody tr th {\n        vertical-align: top;\n    }\n\n    .dataframe thead th {\n        text-align: right;\n    }\n</style>\n<table border=\"1\" class=\"dataframe\">\n  <thead>\n    <tr style=\"text-align: right;\">\n      <th></th>\n      <th>Square_Feet</th>\n      <th>Price</th>\n    </tr>\n  </thead>\n  <tbody>\n    <tr>\n      <th>0</th>\n      <td>1360</td>\n      <td>3.772562e+05</td>\n    </tr>\n    <tr>\n      <th>1</th>\n      <td>4272</td>\n      <td>1.298245e+06</td>\n    </tr>\n    <tr>\n      <th>2</th>\n      <td>3592</td>\n      <td>1.008564e+06</td>\n    </tr>\n    <tr>\n      <th>3</th>\n      <td>966</td>\n      <td>2.757597e+05</td>\n    </tr>\n    <tr>\n      <th>4</th>\n      <td>4926</td>\n      <td>1.474809e+06</td>\n    </tr>\n  </tbody>\n</table>\n</div>"
          },
          "metadata": {}
        }
      ],
      "outputs_reference": null,
      "execution_count": 4,
      "block_group": "001b73ace7f644b9a9452d1e05ebc34c",
      "content_dependencies": null
    },
    {
      "cell_type": "markdown",
      "source": "## 5. Exploratory Data Analysis (EDA)\n\nBefore building a model, explore the data to understand its structure. This includes:\n1.Checking for any missing values.\n2.Understanding the distribution of features.\n3.Visualizing the relationship between the features.",
      "metadata": {
        "deepnote_app_block_visible": true,
        "cell_id": "6e6cfc6a2a6b40b1b590c57071a5be71",
        "deepnote_cell_type": "markdown"
      },
      "block_group": "cb1445ea56164fe0aa7d9860fcc76ff3"
    },
    {
      "cell_type": "code",
      "source": "# Check for missing values\nprint(df.isnull().sum())\n\n# Basic statistics of the dataset\nprint(df.describe())\n\n# Visualize the relationship between Square_Feet and Price\nimport matplotlib.pyplot as plt\n\nplt.scatter(df['Square_Feet'], df['Price'])\nplt.xlabel('Square Feet')\nplt.ylabel('Price')\nplt.title('House Price vs. Size')\nplt.show()\n",
      "metadata": {
        "source_hash": "fef3568b",
        "execution_start": 1729874777346,
        "execution_millis": 408,
        "execution_context_id": "5fc09568-8e3b-44df-b218-3a8761cd3422",
        "deepnote_app_block_visible": true,
        "cell_id": "1a469e6cd35a4f0d955f6a3ed73a0c99",
        "deepnote_cell_type": "code"
      },
      "outputs": [
        {
          "name": "stdout",
          "text": "Square_Feet    0\nPrice          0\ndtype: int64\n       Square_Feet         Price\ncount   100.000000  1.000000e+02\nmean   2669.940000  8.021753e+05\nstd    1276.786321  3.897162e+05\nmin     534.000000  4.571506e+04\n25%    1519.750000  4.676605e+05\n50%    2820.500000  8.269175e+05\n75%    3616.000000  1.092494e+06\nmax    4993.000000  1.554832e+06\n",
          "output_type": "stream"
        },
        {
          "data": {
            "text/plain": "<Figure size 640x480 with 1 Axes>",
            "image/png": "[encoded data removed]"
          },
          "metadata": {
            "image/png": {
              "width": 577,
              "height": 463
            }
          },
          "output_type": "display_data"
        }
      ],
      "outputs_reference": null,
      "execution_count": 5,
      "block_group": "b51b9adfded548cfa3737e8c1af5dd43",
      "content_dependencies": null
    },
    {
      "cell_type": "markdown",
      "source": "## 6. Model Training and Evaluation\nSplit the Data into Training and Testing Sets -\n",
      "metadata": {
        "deepnote_app_block_visible": true,
        "cell_id": "6fff491f2f904c3f853ccbf655540516",
        "deepnote_cell_type": "markdown"
      },
      "block_group": "80e7845446e6400fb4e11bb40ada9fb3"
    },
    {
      "cell_type": "code",
      "source": "from sklearn.model_selection import train_test_split\n\n# Split data into features (X) and target (y)\nX = df[['Square_Feet']]\ny = df['Price']\n\n# Split the data into 80% training and 20% testing\nX_train, X_test, y_train, y_test = train_test_split(X, y, test_size=0.2, random_state=42)\n",
      "metadata": {
        "source_hash": "c7cf0ee5",
        "execution_start": 1729874777803,
        "execution_millis": 0,
        "execution_context_id": "5fc09568-8e3b-44df-b218-3a8761cd3422",
        "deepnote_app_block_visible": true,
        "cell_id": "b6a9021b058b4de0bb3ca5f92da4b2e3",
        "deepnote_cell_type": "code"
      },
      "outputs": [],
      "outputs_reference": null,
      "execution_count": 6,
      "block_group": "4ee6c5ff4b694e7bba8ef748a72e2911",
      "content_dependencies": null
    },
    {
      "cell_type": "markdown",
      "source": " Train the Model using Linear Regression -",
      "metadata": {
        "deepnote_app_block_visible": true,
        "cell_id": "998254da34ae43d18336ad062ef4f416",
        "deepnote_cell_type": "markdown"
      },
      "block_group": "0cbfbfc045a141a3a7e419aff3f703d9"
    },
    {
      "cell_type": "code",
      "source": "from sklearn.linear_model import LinearRegression\n\n# Create a Linear Regression model\nmodel = LinearRegression()\n\n# Train the model\nmodel.fit(X_train, y_train)\n\n# Print the model's parameters\nprint(\"Intercept:\", model.intercept_)\nprint(\"Coefficient:\", model.coef_)\n",
      "metadata": {
        "source_hash": "ce7f394d",
        "execution_start": 1729874777862,
        "execution_millis": 1,
        "execution_context_id": "5fc09568-8e3b-44df-b218-3a8761cd3422",
        "deepnote_app_block_visible": true,
        "cell_id": "4487524cca364683b733e4c29eee271d",
        "deepnote_cell_type": "code"
      },
      "outputs": [
        {
          "name": "stdout",
          "text": "Intercept: -11132.250998669304\nCoefficient: [303.68655838]\n",
          "output_type": "stream"
        }
      ],
      "outputs_reference": null,
      "execution_count": 7,
      "block_group": "c2ef3192d7b24f71b8603201eb30e747",
      "content_dependencies": null
    },
    {
      "cell_type": "markdown",
      "source": "Make Predictions -",
      "metadata": {
        "deepnote_app_block_visible": true,
        "cell_id": "00761be7fd2344118430e36c92c4c838",
        "deepnote_cell_type": "markdown"
      },
      "block_group": "f3baead1cc4446edb4441dcacafc6147"
    },
    {
      "cell_type": "code",
      "source": "# Predict the prices on the test set\ny_pred = model.predict(X_test)\n\n# Display the first few predictions\nprint(\"Predicted prices:\", y_pred[:5])\nprint(\"Actual prices:\", y_test[:5].values)\n",
      "metadata": {
        "source_hash": "2598117d",
        "execution_start": 1729874777910,
        "execution_millis": 1,
        "execution_context_id": "5fc09568-8e3b-44df-b218-3a8761cd3422",
        "deepnote_app_block_visible": true,
        "cell_id": "611b7fe7b81d4241b24ca1a586e1d228",
        "deepnote_cell_type": "code"
      },
      "outputs": [
        {
          "name": "stdout",
          "text": "Predicted prices: [ 832509.00817988 1073939.82209167 1353331.45580091  916933.87140942\n  589559.7614762 ]\nActual prices: [ 807276.92602337 1145916.42805861 1383806.41399124  939670.78243596\n  555483.64397409]\n",
          "output_type": "stream"
        }
      ],
      "outputs_reference": null,
      "execution_count": 8,
      "block_group": "a74c12f115a2464a9a355366fa1883e9",
      "content_dependencies": null
    },
    {
      "cell_type": "markdown",
      "source": "Evaluate the Model -",
      "metadata": {
        "deepnote_app_block_visible": true,
        "cell_id": "694a8e2ae9f1494c9bd728d18035bfe9",
        "deepnote_cell_type": "markdown"
      },
      "block_group": "92c8ce9356c145c08c4e4e36fca4aa38"
    },
    {
      "cell_type": "code",
      "source": "from sklearn.metrics import mean_absolute_error, mean_squared_error\n\n# Calculate MAE and MSE\nmae = mean_absolute_error(y_test, y_pred)\nmse = mean_squared_error(y_test, y_pred)\n\nprint(\"Mean Absolute Error:\", mae)\nprint(\"Mean Squared Error:\", mse)\n",
      "metadata": {
        "source_hash": "a2ab27b0",
        "execution_start": 1729874777970,
        "execution_millis": 1,
        "execution_context_id": "5fc09568-8e3b-44df-b218-3a8761cd3422",
        "deepnote_app_block_visible": true,
        "cell_id": "a4428866183e4256bb1e87ae84a5a869",
        "deepnote_cell_type": "code"
      },
      "outputs": [
        {
          "name": "stdout",
          "text": "Mean Absolute Error: 36112.18863721998\nMean Squared Error: 2081832033.779705\n",
          "output_type": "stream"
        }
      ],
      "outputs_reference": null,
      "execution_count": 9,
      "block_group": "f98dd786669d4bed885c2d402602191a",
      "content_dependencies": null
    },
    {
      "cell_type": "markdown",
      "source": "## 7. Conclusion 🏁\n- The model was able to predict house prices based on square footage with reasonable accuracy.\n- The error rate, as measured by the Mean Squared Error, indicates that the predictions could be further improved by using additional features.\n",
      "metadata": {
        "deepnote_app_block_visible": true,
        "cell_id": "eae8cdf50d51411ebf05b04b21adf05d",
        "deepnote_cell_type": "markdown"
      },
      "block_group": "f8284594f07d4dadbbff893fdc0a6d6c"
    },
    {
      "cell_type": "markdown",
      "source": "<hr>",
      "metadata": {
        "deepnote_app_block_visible": true,
        "cell_id": "5c305a0a41004e8b8ceabc59de3a83d9",
        "deepnote_cell_type": "separator"
      },
      "block_group": "477d45d921b9482e9f3ce72b9f2778d6"
    },
    {
      "cell_type": "markdown",
      "source": "<a style='text-decoration:none;line-height:16px;display:flex;color:#5B5B62;padding:10px;justify-content:end;' href='https://deepnote.com?utm_source=created-in-deepnote-cell&projectId=badfcff7-b386-4d80-8cd3-055aed2700c0' target=\"_blank\">\n<img alt='Created in deepnote.com' style='display:inline;max-height:16px;margin:0px;margin-right:7.5px;' src='data:image/svg+xml;base64,PD94bWwgdmVyc2lvbj0iMS4wIiBlbmNvZGluZz0iVVRGLTgiPz4KPHN2ZyB3aWR0aD0iODBweCIgaGVpZ2h0PSI4MHB4IiB2aWV3Qm94PSIwIDAgODAgODAiIHZlcnNpb249IjEuMSIgeG1sbnM9Imh0dHA6Ly93d3cudzMub3JnLzIwMDAvc3ZnIiB4bWxuczp4bGluaz0iaHR0cDovL3d3dy53My5vcmcvMTk5OS94bGluayI+CiAgICA8IS0tIEdlbmVyYXRvcjogU2tldGNoIDU0LjEgKDc2NDkwKSAtIGh0dHBzOi8vc2tldGNoYXBwLmNvbSAtLT4KICAgIDx0aXRsZT5Hcm91cCAzPC90aXRsZT4KICAgIDxkZXNjPkNyZWF0ZWQgd2l0aCBTa2V0Y2guPC9kZXNjPgogICAgPGcgaWQ9IkxhbmRpbmciIHN0cm9rZT0ibm9uZSIgc3Ryb2tlLXdpZHRoPSIxIiBmaWxsPSJub25lIiBmaWxsLXJ1bGU9ImV2ZW5vZGQiPgogICAgICAgIDxnIGlkPSJBcnRib2FyZCIgdHJhbnNmb3JtPSJ0cmFuc2xhdGUoLTEyMzUuMDAwMDAwLCAtNzkuMDAwMDAwKSI+CiAgICAgICAgICAgIDxnIGlkPSJHcm91cC0zIiB0cmFuc2Zvcm09InRyYW5zbGF0ZSgxMjM1LjAwMDAwMCwgNzkuMDAwMDAwKSI+CiAgICAgICAgICAgICAgICA8cG9seWdvbiBpZD0iUGF0aC0yMCIgZmlsbD0iIzAyNjVCNCIgcG9pbnRzPSIyLjM3NjIzNzYyIDgwIDM4LjA0NzY2NjcgODAgNTcuODIxNzgyMiA3My44MDU3NTkyIDU3LjgyMTc4MjIgMzIuNzU5MjczOSAzOS4xNDAyMjc4IDMxLjY4MzE2ODMiPjwvcG9seWdvbj4KICAgICAgICAgICAgICAgIDxwYXRoIGQ9Ik0zNS4wMDc3MTgsODAgQzQyLjkwNjIwMDcsNzYuNDU0OTM1OCA0Ny41NjQ5MTY3LDcxLjU0MjI2NzEgNDguOTgzODY2LDY1LjI2MTk5MzkgQzUxLjExMjI4OTksNTUuODQxNTg0MiA0MS42NzcxNzk1LDQ5LjIxMjIyODQgMjUuNjIzOTg0Niw0OS4yMTIyMjg0IEMyNS40ODQ5Mjg5LDQ5LjEyNjg0NDggMjkuODI2MTI5Niw0My4yODM4MjQ4IDM4LjY0NzU4NjksMzEuNjgzMTY4MyBMNzIuODcxMjg3MSwzMi41NTQ0MjUgTDY1LjI4MDk3Myw2Ny42NzYzNDIxIEw1MS4xMTIyODk5LDc3LjM3NjE0NCBMMzUuMDA3NzE4LDgwIFoiIGlkPSJQYXRoLTIyIiBmaWxsPSIjMDAyODY4Ij48L3BhdGg+CiAgICAgICAgICAgICAgICA8cGF0aCBkPSJNMCwzNy43MzA0NDA1IEwyNy4xMTQ1MzcsMC4yNTcxMTE0MzYgQzYyLjM3MTUxMjMsLTEuOTkwNzE3MDEgODAsMTAuNTAwMzkyNyA4MCwzNy43MzA0NDA1IEM4MCw2NC45NjA0ODgyIDY0Ljc3NjUwMzgsNzkuMDUwMzQxNCAzNC4zMjk1MTEzLDgwIEM0Ny4wNTUzNDg5LDc3LjU2NzA4MDggNTMuNDE4MjY3Nyw3MC4zMTM2MTAzIDUzLjQxODI2NzcsNTguMjM5NTg4NSBDNTMuNDE4MjY3Nyw0MC4xMjg1NTU3IDM2LjMwMzk1NDQsMzcuNzMwNDQwNSAyNS4yMjc0MTcsMzcuNzMwNDQwNSBDMTcuODQzMDU4NiwzNy43MzA0NDA1IDkuNDMzOTE5NjYsMzcuNzMwNDQwNSAwLDM3LjczMDQ0MDUgWiIgaWQ9IlBhdGgtMTkiIGZpbGw9IiMzNzkzRUYiPjwvcGF0aD4KICAgICAgICAgICAgPC9nPgogICAgICAgIDwvZz4KICAgIDwvZz4KPC9zdmc+' > </img>\nCreated in <span style='font-weight:600;margin-left:4px;'>Deepnote</span></a>",
      "metadata": {
        "created_in_deepnote_cell": true,
        "deepnote_cell_type": "markdown"
      }
    }
  ],
  "nbformat": 4,
  "nbformat_minor": 0,
  "metadata": {
    "deepnote_app_layout": "powerful-article",
    "deepnote_app_width": "full-width",
    "deepnote_app_reactivity_enabled": true,
    "deepnote_notebook_id": "39e70e7cafba46a0a9c9fdc8685028e3",
    "deepnote_execution_queue": []
  }
}